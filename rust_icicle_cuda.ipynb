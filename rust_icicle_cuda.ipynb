{
  "cells": [
    {
      "cell_type": "markdown",
      "metadata": {
        "id": "T1tYMNpw0hbH"
      },
      "source": [
        "# **How to run rust + cuda code using google colab**\n",
        "\n",
        "Google Colab gives you free access to T4 GPUs that you can use to run your CUDA projects. However, by default, it doesn't support rust or CUDA.\n",
        "\n",
        "Before executing the following cells, ensure you are connected to a T4 instance (Check the top right icon).\n",
        "\n",
        "<div>\n",
        "<img src=\"https://raw.githubusercontent.com/gkigiermo/rust_cuda_colab/main/imgs/connectToHost.png\" width=\"400\"/>\n",
        "</div>\n",
        "\n",
        "You only need a Google account to proceed. If you are new to Google Colab, you need to press shift + enter to run the code in the cells (the grey cells). When executed correctly a green check is seen at the left and the output is displayed right below the cell.\n",
        "\n",
        "If for any reason the instance loses connection or is not working, you might need to restart it. You can do that from the top menu `Runtime-> Restart runtime`.\n",
        "Think of the instance as a VM, so if you restart it all the changes you did (installing tools or files generated) are erased and you need to execute them again.\n",
        "\n",
        "The cells in this notebook are meant to be executed sequentially to fulfill dependencies. You can choose either to start by running the Rust or CUDA sections independently."
      ]
    },
    {
      "cell_type": "markdown",
      "metadata": {
        "id": "K0-UxT3Rs53h"
      },
      "source": [
        "## **Mounting Google Drive**\n",
        "Google Colab files are not stored unless you have a paid account.\n",
        "To not losing changes, you should mount your Google Drive and work in a directory from there. This will also allow you to modify files locally and sync them with Google Colab easily."
      ]
    },
    {
      "cell_type": "code",
      "execution_count": null,
      "metadata": {
        "id": "I5E48kfHr9-Z"
      },
      "outputs": [],
      "source": [
        "from google.colab import drive\n",
        "drive.mount('/content/drive')"
      ]
    },
    {
      "cell_type": "markdown",
      "metadata": {
        "id": "nRjThYEPuoWa"
      },
      "source": [
        "The above cell mounts your Google Drive in the ```/content/drive``` directory. You can check that it was mounted correctly by clicking on the folder icon at the left of your screen.\n",
        "\n",
        "So far, It is not possible to mount only one specific directory, so be careful when running commands that might erase data.\n",
        "\n",
        "I have previously created a folder named *workspace* at the root of my Google Drive. For security, I want to perform all the work there.\n",
        "The next cell allows me to change the directory in the same way I would do it in a terminal. I use the `pwd` command to print the path and verify it.\n"
      ]
    },
    {
      "cell_type": "code",
      "execution_count": null,
      "metadata": {
        "id": "lm-9FxXFxJ2T"
      },
      "outputs": [],
      "source": [
        "%cd /content/drive/MyDrive/workspace/\n",
        "%pwd"
      ]
    },
    {
      "cell_type": "markdown",
      "metadata": {
        "id": "Uv4UW2J6FvDV"
      },
      "source": [
        "## **Installing Rust**\n",
        "\n",
        "By default, rust is not included in the VMs of Google Colab so it is necessary to install it. You need to do this step every time you access the Colab or if for any reason you have to restart the runtime. It is annoying, but it takes only about 15s."
      ]
    },
    {
      "cell_type": "code",
      "execution_count": null,
      "metadata": {
        "id": "a0UIb9xOy0j2"
      },
      "outputs": [],
      "source": [
        "!apt install rustc cargo"
      ]
    },
    {
      "cell_type": "markdown",
      "metadata": {
        "id": "68nrwywizU4T"
      },
      "source": [
        "You can check the version of the tools in the VM running the following cell."
      ]
    },
    {
      "cell_type": "code",
      "execution_count": null,
      "metadata": {
        "id": "ZSgmprAAy3wD"
      },
      "outputs": [],
      "source": [
        "!rustc --version\n",
        "!cargo --version\n",
        "!nvcc --version\n",
        "!gcc --version\n",
        "!cmake --version"
      ]
    },
    {
      "cell_type": "markdown",
      "metadata": {
        "id": "pX-3xrQumPh5"
      },
      "source": [
        "You can also check the available GPU."
      ]
    },
    {
      "cell_type": "code",
      "execution_count": null,
      "metadata": {
        "id": "9bnGzqBhmXUE"
      },
      "outputs": [],
      "source": [
        "!nvidia-smi"
      ]
    },
    {
      "cell_type": "markdown",
      "metadata": {
        "id": "WNE7UAah0rH6"
      },
      "source": [
        "## **Cloning icicle and running the tests**\n",
        "\n",
        "You can now proceed to clone the icicle repo. Remember that it will be stored in the workspace folder of your Google Drive. Note that you only need to clone it once, and then just keep it updated. The easiest way to perform the repo operations is to do it locally in your synced directory."
      ]
    },
    {
      "cell_type": "code",
      "execution_count": null,
      "metadata": {
        "id": "NdsG7-ow1fWQ"
      },
      "outputs": [],
      "source": [
        "!git clone https://github.com/ingonyama-zk/icicle.git"
      ]
    },
    {
      "cell_type": "markdown",
      "metadata": {
        "id": "sc9Aqr6s15zH"
      },
      "source": [
        "Compiling the repo takes around 4 or 5 minutes in the T4 instances, so be patient!\n",
        "\n",
        "You may notice the parameter `-DCURVE=bn254`, if you wish to change the curve you are compiling just change this flag to one of the [supported curves](https://github.com/ingonyama-zk/icicle/tree/main/curve_parameters)."
      ]
    },
    {
      "cell_type": "code",
      "execution_count": null,
      "metadata": {
        "id": "e7F8a6b81h7O"
      },
      "outputs": [],
      "source": [
        "!ls -la\n",
        "%cd icicle/icicle\n",
        "!mkdir -p build\n",
        "!cmake -S . -B build -DCURVE=bn254 -DBUILD_TESTS=ON\n",
        "!time cmake --build build"
      ]
    },
    {
      "cell_type": "markdown",
      "metadata": {
        "id": "YWu1aPIy9Cll"
      },
      "source": [
        "You might observe some warnings during compilation, but no fatal errors.\n",
        "You can check if the library was compiled correctly by running the tests. This takes around 4m15s in the T4 instances."
      ]
    },
    {
      "cell_type": "code",
      "execution_count": null,
      "metadata": {
        "id": "pPR106K11tmJ"
      },
      "outputs": [],
      "source": [
        "%cd build\n",
        "!time ctest"
      ]
    },
    {
      "cell_type": "markdown",
      "metadata": {
        "id": "20WXXXNh96FL"
      },
      "source": [
        "All tests should pass.\n",
        "If you arrived here, you are ready to go! Good luck and have fun!"
      ]
    },
    {
      "cell_type": "markdown",
      "metadata": {
        "id": "4TUkFUUH5Oye"
      },
      "source": [
        "# **Bonus: develop CUDA in google colab**\n",
        "\n",
        "If you are interested in developing CUDA using Google Colab, you need to add a plugin. Note that rust-related cells are not a requirement to run/develop CUDA, so if you want you can just execute the steps from here. However, If you want to save your data you need to mount the Google Drive or copy them manually."
      ]
    },
    {
      "cell_type": "markdown",
      "metadata": {
        "id": "lSKBGJhzJlQ1"
      },
      "source": [
        "To change directory to the `/content` folder and verify it worked run:"
      ]
    },
    {
      "cell_type": "code",
      "execution_count": null,
      "metadata": {
        "id": "64F0Gcgq9Tkn"
      },
      "outputs": [],
      "source": [
        "%cd /content/\n",
        "%pwd"
      ]
    },
    {
      "cell_type": "markdown",
      "metadata": {
        "id": "LI4CGG9X7NSP"
      },
      "source": [
        "Install the nvcc4jupyter plugin"
      ]
    },
    {
      "cell_type": "code",
      "execution_count": null,
      "metadata": {
        "id": "l21e6a3h7Gbd"
      },
      "outputs": [],
      "source": [
        "!pip install git+https://github.com/andreinechaev/nvcc4jupyter.git"
      ]
    },
    {
      "cell_type": "markdown",
      "metadata": {
        "id": "V8fTKclK7Oql"
      },
      "source": [
        "Load the nvcc extension"
      ]
    },
    {
      "cell_type": "code",
      "execution_count": null,
      "metadata": {
        "id": "6duQL5T-7QZr"
      },
      "outputs": [],
      "source": [
        "%load_ext nvcc_plugin"
      ]
    },
    {
      "cell_type": "markdown",
      "metadata": {
        "id": "oF9S1tCF7Vd9"
      },
      "source": [
        "Let's test it with a simple code to check the current GPU.\n",
        "Note the mark `%%cu` on top of the code, that means that when you press shift + enter the cell will compile CUDA code and execute it."
      ]
    },
    {
      "cell_type": "code",
      "execution_count": null,
      "metadata": {
        "id": "jk_cpdUn7ZDy"
      },
      "outputs": [],
      "source": [
        "%%cu\n",
        "#include <stdio.h>\n",
        "#include <stdlib.h>\n",
        "\n",
        "int main() {\n",
        "    int devId = -1;\n",
        "    cudaGetDevice(&devId);\n",
        "\n",
        "    int numDevs = 0;\n",
        "    cudaGetDeviceCount(&numDevs);\n",
        "\n",
        "    cudaDeviceProp prop;\n",
        "    cudaGetDeviceProperties(&prop, 0);\n",
        "\n",
        "    printf(\"Num devices %d\\n\", numDevs);\n",
        "    printf(\"Device Id: %d\\n\", devId);\n",
        "    printf(\"  Device name: %s\\n\", prop.name);\n",
        "    printf(\"  Compute capability: %d.%d\\n\", prop.major, prop.minor);\n",
        "    printf(\"  Memory available  (GB): %ld\\n\", prop.totalGlobalMem/(1024*1024*1024));\n",
        "    printf(\"  Peak Memory Bandwidth (GB/s): %.2f\\n\\n\",\n",
        "          2.0*prop.memoryClockRate*(prop.memoryBusWidth/8)/1.0e6);\n",
        "\n",
        "    return 0;\n",
        "}"
      ]
    },
    {
      "cell_type": "markdown",
      "metadata": {
        "id": "B1sLX2wp7lW6"
      },
      "source": [
        "You can also store the file by using the mark `%%cuda` with the `--name` parameter."
      ]
    },
    {
      "cell_type": "code",
      "execution_count": null,
      "metadata": {
        "id": "I755A33X7s2h"
      },
      "outputs": [],
      "source": [
        "%%cuda --name test.cu\n",
        "#include <stdio.h>\n",
        "#include <stdlib.h>\n",
        "\n",
        "int main() {\n",
        "    int devId = -1;\n",
        "    cudaGetDevice(&devId);\n",
        "\n",
        "    int numDevs = 0;\n",
        "    cudaGetDeviceCount(&numDevs);\n",
        "\n",
        "    cudaDeviceProp prop;\n",
        "    cudaGetDeviceProperties(&prop, 0);\n",
        "\n",
        "    printf(\"Num devices %d\\n\", numDevs);\n",
        "    printf(\"Device Id: %d\\n\", devId);\n",
        "    printf(\"  Device name: %s\\n\", prop.name);\n",
        "    printf(\"  Compute capability: %d.%d\\n\", prop.major, prop.minor);\n",
        "    printf(\"  Memory available  (GB): %ld\\n\", prop.totalGlobalMem/(1024*1024*1024));\n",
        "    printf(\"  Peak Memory Bandwidth (GB/s): %.2f\\n\\n\",\n",
        "          2.0*prop.memoryClockRate*(prop.memoryBusWidth/8)/1.0e6);\n",
        "\n",
        "    return 0;\n",
        "}"
      ]
    },
    {
      "cell_type": "markdown",
      "metadata": {
        "id": "GI9IcxeY8Mb5"
      },
      "source": [
        "The file will be stored in a src folder created by the plugin. Enter in the directory and check that exists."
      ]
    },
    {
      "cell_type": "code",
      "execution_count": null,
      "metadata": {
        "id": "Z5sgVuCt-gGp"
      },
      "outputs": [],
      "source": [
        "%cd src/\n",
        "%ls"
      ]
    },
    {
      "cell_type": "markdown",
      "metadata": {
        "id": "wZuB-bqH-roh"
      },
      "source": [
        "You can compile the file in the same way you would do it in your local terminal."
      ]
    },
    {
      "cell_type": "code",
      "execution_count": null,
      "metadata": {
        "id": "bDfFO2Pm-k0E"
      },
      "outputs": [],
      "source": [
        "!nvcc test.cu -o test"
      ]
    },
    {
      "cell_type": "markdown",
      "metadata": {
        "id": "TEwD38pm-6-A"
      },
      "source": [
        "Check that the `test` executable was created, and execute it."
      ]
    },
    {
      "cell_type": "code",
      "execution_count": null,
      "metadata": {
        "id": "Ehh6rdTL-28l"
      },
      "outputs": [],
      "source": [
        "!./test"
      ]
    },
    {
      "cell_type": "markdown",
      "metadata": {
        "id": "24Qa400l_Iu_"
      },
      "source": [
        "Finally you can profile the executable using `nvprof`."
      ]
    },
    {
      "cell_type": "code",
      "execution_count": null,
      "metadata": {
        "id": "IAEz8wXE_DmE"
      },
      "outputs": [],
      "source": [
        "!nvprof ./test"
      ]
    },
    {
      "cell_type": "markdown",
      "metadata": {
        "id": "xXlrIHgsKVjG"
      },
      "source": [
        "Now, you are ready to go! Good luck!"
      ]
    }
  ],
  "metadata": {
    "accelerator": "GPU",
    "authors": [
      {
        "name": "Guillermo Oyarzun"
      }
    ],
    "colab": {
      "gpuType": "T4",
      "provenance": []
    },
    "kernelspec": {
      "display_name": "Python 3.11.1 64-bit",
      "language": "python",
      "name": "python3"
    },
    "language_info": {
      "name": "python",
      "version": "3.11.1"
    },
    "title": "Rust cuda colab",
    "vscode": {
      "interpreter": {
        "hash": "1a1af0ee75eeea9e2e1ee996c87e7a2b11a0bebd85af04bb136d915cefc0abce"
      }
    }
  },
  "nbformat": 4,
  "nbformat_minor": 0
}
